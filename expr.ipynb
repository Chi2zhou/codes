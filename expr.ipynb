{
 "cells": [
  {
   "cell_type": "code",
   "execution_count": null,
   "id": "3e63ac1b",
   "metadata": {},
   "outputs": [],
   "source": [
    "import xarray as xr\n",
    "import matplotlib.pyplot as plt\n",
    "import numpy as np\n",
    "file_path1 = \"/mnt/Projects/climate_data/AgERA5/barbados/agera5_lwf_barbados_daily.nc\"\n",
    "file_path2 = \"/mnt/Projects/climate_data/AgERA5/barbados/agera5_pet_barbados_daily.nc\"\n",
    "file_path3 = \"/mnt/Projects/climate_data/AgERA5/barbados/agera5_pet-har_barbados_daily.nc\"\n",
    "\n",
    "ds_lwf = xr.open_dataset(file_path1,engine='netcdf4')\n",
    "ds_pet = xr.open_dataset(file_path2,engine='netcdf4')\n",
    "ds_pet_har = xr.open_dataset(file_path3,engine='netcdf4')\n",
    "\n",
    "print(ds_lwf.keys())\n",
    "print(ds_pet_har.keys())\n",
    "print('hello')"
   ]
  },
  {
   "cell_type": "markdown",
   "id": "9e718a51",
   "metadata": {},
   "source": [
    "# import data arrays"
   ]
  },
  {
   "cell_type": "code",
   "execution_count": null,
   "id": "0a1629db",
   "metadata": {},
   "outputs": [],
   "source": [
    "lwf = ds_lwf['lwf']\n",
    "pet = ds_pet['pet']\n",
    "pet_har = ds_pet_har['pet_har']\n",
    "\n"
   ]
  },
  {
   "cell_type": "markdown",
   "id": "4ccddcd4",
   "metadata": {},
   "source": [
    "# Compute and plot the temporal mean"
   ]
  },
  {
   "cell_type": "code",
   "execution_count": null,
   "id": "4cb1864a",
   "metadata": {},
   "outputs": [],
   "source": [
    "# Select a specific time index\n",
    "lwf_mean = lwf.mean(dim=[\"time\"])\n",
    "pet_mean = pet.mean(dim=[\"time\"])\n",
    "pet_har_mean = pet_har.mean(dim=[\"time\"])\n",
    "precip_mean = precip.mean(dim=[\"time\"])\n",
    "swe_mean = swe.mean(dim=[\"time\"])\n",
    "swrad_mean = swrad.mean(dim=[\"time\"])\n",
    "\n",
    "# subplots\n",
    "fig, axs = plt.subplots(1, 3, figsize=(20, 6))  \n",
    "\n",
    "# Plot \n",
    "lwf_mean.plot.imshow(x='lon', y='lat', cmap='viridis', ax=axs[0], origin='lower')\n",
    "pet_mean.plot.imshow(x='lon', y='lat', cmap='plasma', ax=axs[1], origin='lower')\n",
    "pet_har_mean.plot.imshow(x='lon', y='lat', cmap='plasma', ax=axs[2], origin='lower')\n",
    "\n",
    "axs[0].set_title('mean LWF')\n",
    "axs[1].set_title('mean PET')\n",
    "axs[2].set_title('mean PET-HAR')\n",
    "\n",
    "#axs[1].set_xlabel('Longitude')\n",
    "\n",
    "\n",
    "\n",
    "# Show the plot\n",
    "plt.show()"
   ]
  },
  {
   "cell_type": "markdown",
   "id": "8f0a4069",
   "metadata": {},
   "source": [
    "# compute and plot the spatial mean"
   ]
  },
  {
   "cell_type": "code",
   "execution_count": null,
   "id": "6cbdbfcc",
   "metadata": {},
   "outputs": [],
   "source": [
    "lwf_mean = lwf.mean(dim=[\"lat\", \"lon\"])  # Averaging \n",
    "pet_mean = pet.mean(dim=[\"lat\", \"lon\"])  # Averaging \n",
    "pet_har_mean = pet_har.mean(dim=[\"lat\", \"lon\"])  \n"
   ]
  },
  {
   "cell_type": "code",
   "execution_count": null,
   "id": "9072f1b6",
   "metadata": {},
   "outputs": [],
   "source": [
    "# Select a specific time range to show\n",
    "time_range_start = '1979-01-01T00:00:00'  \n",
    "time_range_end = '2000-01-01T00:00:00'   \n",
    "\n",
    "fig, axs = plt.subplots(1, 3, figsize=(20, 6)) \n",
    "\n",
    "# Plotting\n",
    "lwf_mean.plot.line(ax=axs[0])\n",
    "axs[0].set_title('Mean LWF Time Series')\n",
    "axs[0].set_xlabel('Time')\n",
    "axs[0].set_ylabel('Mean LWF')\n",
    "pet_mean.plot.line(ax=axs[1])\n",
    "axs[1].set_title('Mean PET Time Series')\n",
    "axs[1].set_xlabel('Time')\n",
    "axs[1].set_ylabel('Mean PET')\n",
    "pet_har_mean.plot.line(ax=axs[2])\n",
    "axs[2].set_title('Mean PET-HAR Time Series')\n",
    "axs[2].set_xlabel('Time')\n",
    "axs[2].set_ylabel('Mean PET-HAR')\n",
    "\n",
    "axs[0].set_xlim([np.datetime64(time_range_start), np.datetime64(time_range_end)])\n",
    "axs[1].set_xlim([np.datetime64(time_range_start), np.datetime64(time_range_end)])\n",
    "axs[2].set_xlim([np.datetime64(time_range_start), np.datetime64(time_range_end)])\n",
    "\n",
    "\n",
    "plt.show()"
   ]
  }
 ],
 "metadata": {
  "kernelspec": {
   "display_name": "py311",
   "language": "python",
   "name": "python3"
  },
  "language_info": {
   "codemirror_mode": {
    "name": "ipython",
    "version": 3
   },
   "file_extension": ".py",
   "mimetype": "text/x-python",
   "name": "python",
   "nbconvert_exporter": "python",
   "pygments_lexer": "ipython3",
   "version": "3.11.6"
  }
 },
 "nbformat": 4,
 "nbformat_minor": 5
}
